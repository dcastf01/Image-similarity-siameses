{
  "nbformat": 4,
  "nbformat_minor": 0,
  "metadata": {
    "colab": {
      "name": "SimSiam-image-similarity.ipynb",
      "provenance": [],
      "authorship_tag": "ABX9TyM4tcPukp9TPkAz9ziKSzjB",
      "include_colab_link": true
    },
    "kernelspec": {
      "name": "python3",
      "display_name": "Python 3"
    }
  },
  "cells": [
    {
      "cell_type": "markdown",
      "metadata": {
        "id": "view-in-github",
        "colab_type": "text"
      },
      "source": [
        "<a href=\"https://colab.research.google.com/github/dcastf01/Image-similarity-siameses/blob/main/SimSiam_image_similarity.ipynb\" target=\"_parent\"><img src=\"https://colab.research.google.com/assets/colab-badge.svg\" alt=\"Open In Colab\"/></a>"
      ]
    },
    {
      "cell_type": "code",
      "metadata": {
        "id": "0rx8aA_srS1-"
      },
      "source": [
        ""
      ],
      "execution_count": null,
      "outputs": []
    },
    {
      "cell_type": "markdown",
      "metadata": {
        "id": "q9ER5bbZrdqf"
      },
      "source": [
        "data source https://data.vision.ee.ethz.ch/sagea/lld/"
      ]
    },
    {
      "cell_type": "code",
      "metadata": {
        "colab": {
          "base_uri": "https://localhost:8080/"
        },
        "id": "Z61qRZpnrqD0",
        "outputId": "8074b5c0-7a4e-497b-ef2c-f60897c65dd6"
      },
      "source": [
        "!wget https://data.vision.ee.ethz.ch/sagea/lld/data/LLD-icon_full_data_PNG.zip\r\n",
        "!unzip LLD-icon_full_data_PNG.zip\r\n"
      ],
      "execution_count": 4,
      "outputs": [
        {
          "output_type": "stream",
          "text": [
            "--2020-12-09 13:27:11--  https://data.vision.ee.ethz.ch/sagea/lld/data/LLD-icon_full_data_PNG.zip\n",
            "Resolving data.vision.ee.ethz.ch (data.vision.ee.ethz.ch)... 129.132.52.162\n",
            "Connecting to data.vision.ee.ethz.ch (data.vision.ee.ethz.ch)|129.132.52.162|:443... connected.\n",
            "HTTP request sent, awaiting response... 200 OK\n",
            "Length: 958649249 (914M) [application/zip]\n",
            "Saving to: ‘LLD-icon_full_data_PNG.zip.1’\n",
            "\n",
            "LLD-icon_full_data_ 100%[===================>] 914.24M  8.06MB/s    in 1m 52s  \n",
            "\n",
            "2020-12-09 13:29:05 (8.13 MB/s) - ‘LLD-icon_full_data_PNG.zip.1’ saved [958649249/958649249]\n",
            "\n"
          ],
          "name": "stdout"
        }
      ]
    },
    {
      "cell_type": "code",
      "metadata": {
        "id": "OOU-CBACrs-E"
      },
      "source": [
        "import tensorflow_datasets as tfds\r\n",
        "import tensorflow_addons as tfa\r\n",
        "\r\n",
        "import matplotlib.pyplot as plt\r\n",
        "import numpy as np\r\n",
        "import random\r\n",
        "import time\r\n",
        "import os\r\n",
        "\r\n",
        "from tqdm import tqdm"
      ],
      "execution_count": 28,
      "outputs": []
    },
    {
      "cell_type": "code",
      "metadata": {
        "id": "J3qCjen4uoL1"
      },
      "source": [
        ""
      ],
      "execution_count": null,
      "outputs": []
    }
  ]
}